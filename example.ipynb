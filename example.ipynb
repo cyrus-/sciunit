{
 "metadata": {
  "name": ""
 },
 "nbformat": 3,
 "nbformat_minor": 0,
 "worksheets": [
  {
   "cells": [
    {
     "cell_type": "code",
     "collapsed": false,
     "input": [
      "import sciunit, sciunit.capabilities, sciunit.models, sciunit.scores"
     ],
     "language": "python",
     "metadata": {},
     "outputs": [],
     "prompt_number": 1
    },
    {
     "cell_type": "code",
     "collapsed": false,
     "input": [
      "class EqualsTest(sciunit.Test):\n",
      "    \"\"\"Produces a boolean score if the model predicts \n",
      "    the same number as the observation.\"\"\"   \n",
      "    required_capabilities = (sciunit.capabilities.ProducesNumber,)\n",
      "    def generate_prediction(self, model):\n",
      "        return model.produce_number()\n",
      "    \n",
      "    score_type = sciunit.scores.BooleanScore\n",
      "    def score_prediction(self, observation, prediction):\n",
      "        return self.score_type(observation == prediction)"
     ],
     "language": "python",
     "metadata": {},
     "outputs": [],
     "prompt_number": 2
    },
    {
     "cell_type": "code",
     "collapsed": false,
     "input": [
      "equals_one_test = EqualsTest(1)\n",
      "equals_two_test = EqualsTest(2)\n",
      "print equals_one_test\n",
      "print equals_two_test"
     ],
     "language": "python",
     "metadata": {},
     "outputs": [
      {
       "output_type": "stream",
       "stream": "stdout",
       "text": [
        "sciunit.Test: EqualsTest(1)\n",
        "sciunit.Test: EqualsTest(2)\n"
       ]
      }
     ],
     "prompt_number": 7
    },
    {
     "cell_type": "code",
     "collapsed": false,
     "input": [
      "one_model = sciunit.models.ConstModel(1)\n",
      "two_model = sciunit.models.ConstModel(2)\n",
      "three_model = sciunit.models.ConstModel(3)\n",
      "print one_model\n",
      "print two_model\n",
      "print three_model"
     ],
     "language": "python",
     "metadata": {},
     "outputs": [
      {
       "output_type": "stream",
       "stream": "stdout",
       "text": [
        "sciunit.Model: ConstModel({'constant': 1})\n",
        "sciunit.Model: ConstModel({'constant': 2})\n",
        "sciunit.Model: ConstModel({'constant': 3})\n"
       ]
      }
     ],
     "prompt_number": 6
    },
    {
     "cell_type": "code",
     "collapsed": false,
     "input": [
      "one_one_score = equals_one_test.judge(one_model)\n",
      "print one_one_score"
     ],
     "language": "python",
     "metadata": {},
     "outputs": [
      {
       "output_type": "stream",
       "stream": "stdout",
       "text": [
        "PASS\n"
       ]
      }
     ],
     "prompt_number": 5
    },
    {
     "cell_type": "code",
     "collapsed": false,
     "input": [],
     "language": "python",
     "metadata": {},
     "outputs": []
    }
   ],
   "metadata": {}
  }
 ]
}